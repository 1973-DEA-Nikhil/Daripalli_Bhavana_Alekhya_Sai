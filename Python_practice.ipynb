{
 "cells": [
  {
   "cell_type": "markdown",
   "id": "26f5c4ab-7c5b-46a9-b883-4fd076fa0579",
   "metadata": {},
   "source": [
    "### 1. Write a python program to find the 2nd maximum value in a list without using any in-built function."
   ]
  },
  {
   "cell_type": "code",
   "execution_count": 11,
   "id": "42e23052-89f5-4981-848d-d06dbe18103a",
   "metadata": {},
   "outputs": [
    {
     "name": "stdin",
     "output_type": "stream",
     "text": [
      " 2 5 7 9 12\n"
     ]
    },
    {
     "name": "stdout",
     "output_type": "stream",
     "text": [
      "9\n"
     ]
    }
   ],
   "source": [
    "l = list(map(int, input().split()))\n",
    "max =  float('-inf')\n",
    "for i in range(len(l)):\n",
    "    if l[i] > max:\n",
    "        max = l[i]\n",
    "second_max = float('-inf')\n",
    "for i in l:\n",
    "    if i > second_max and i < max:\n",
    "        second_max = i\n",
    "    \n",
    "print(second_max)"
   ]
  },
  {
   "cell_type": "markdown",
   "id": "4b5c0652-5e16-4809-958e-6ad6c6623ee5",
   "metadata": {},
   "source": [
    "### 2. Write a python program to reverse a list without using any in-built function or slicing."
   ]
  },
  {
   "cell_type": "code",
   "execution_count": 16,
   "id": "9d0c17e6-be62-4de9-aeaf-fb70e68bb0c0",
   "metadata": {},
   "outputs": [
    {
     "name": "stdin",
     "output_type": "stream",
     "text": [
      " 2 6 7 8 1 9\n"
     ]
    },
    {
     "name": "stdout",
     "output_type": "stream",
     "text": [
      "[9, 1, 8, 7, 6]\n"
     ]
    }
   ],
   "source": [
    "l = list(map(int, input().split()))\n",
    "arr = []\n",
    "for i in range(len(l)-1,0,-1):\n",
    "    arr.append(l[i])\n",
    "print(arr)"
   ]
  },
  {
   "cell_type": "markdown",
   "id": "62751f0f-3c0d-4c7f-91b1-0f2e3623300a",
   "metadata": {},
   "source": [
    "### 3. Write a python program to sort the list without using any function"
   ]
  },
  {
   "cell_type": "code",
   "execution_count": 20,
   "id": "73ceabaa-c0fb-4fe1-8b5a-eb91f94193e5",
   "metadata": {},
   "outputs": [
    {
     "name": "stdin",
     "output_type": "stream",
     "text": [
      " 7 5 2 9 8 3\n"
     ]
    },
    {
     "name": "stdout",
     "output_type": "stream",
     "text": [
      "[2, 3, 5, 7, 8, 9]\n"
     ]
    }
   ],
   "source": [
    "l = list(map(int, input().split()))\n",
    "for i in range(len(l)):\n",
    "    for j in range(i,len(l)):\n",
    "        if l[i]  > l[j]:\n",
    "            l[i],l[j] = l[j], l[i]\n",
    "print(l)"
   ]
  },
  {
   "cell_type": "markdown",
   "id": "4abf55db-3f26-4d97-a867-8002ae063c67",
   "metadata": {},
   "source": [
    "### 4. Write a Python program to check if a string is a palindrome."
   ]
  },
  {
   "cell_type": "code",
   "execution_count": 28,
   "id": "dc52e332-3812-4c02-8e6b-747e1df861a1",
   "metadata": {},
   "outputs": [
    {
     "name": "stdin",
     "output_type": "stream",
     "text": [
      " faaf\n"
     ]
    },
    {
     "name": "stdout",
     "output_type": "stream",
     "text": [
      "yes palindrome\n"
     ]
    }
   ],
   "source": [
    "s = input()\n",
    "print(\"yes palindrome\" if s == s[::-1] else \"not palindrome\")"
   ]
  },
  {
   "cell_type": "markdown",
   "id": "67e522f3-a628-41d0-8f28-4a5dda8a0c0c",
   "metadata": {},
   "source": [
    "### 5.  Write a Python program to find the factorial of a number.\n"
   ]
  },
  {
   "cell_type": "code",
   "execution_count": 2,
   "id": "7e4837d3-b0b5-4e76-a963-7e58486ff892",
   "metadata": {},
   "outputs": [
    {
     "name": "stdout",
     "output_type": "stream",
     "text": [
      "24\n"
     ]
    }
   ],
   "source": [
    "def fact(n):\n",
    "    if n == 0:\n",
    "        return 1 \n",
    "    else:\n",
    "        return n * fact(n-1)\n",
    "print(fact(4))"
   ]
  },
  {
   "cell_type": "markdown",
   "id": "40de665f-c2e2-4573-b882-933f657ab181",
   "metadata": {},
   "source": [
    "### 6. Write a Python program to find the largest element in a list."
   ]
  },
  {
   "cell_type": "code",
   "execution_count": 3,
   "id": "fe95b792-f66b-4104-9ef8-179de80e3055",
   "metadata": {},
   "outputs": [
    {
     "name": "stdin",
     "output_type": "stream",
     "text": [
      " 4 7 8 10 6 5 9 13\n"
     ]
    },
    {
     "name": "stdout",
     "output_type": "stream",
     "text": [
      "13\n"
     ]
    }
   ],
   "source": [
    "l = list(map(int, input().split()))\n",
    "max = float('-inf')\n",
    "for i in l:\n",
    "    if i > max:\n",
    "        max = i\n",
    "print(max)"
   ]
  },
  {
   "cell_type": "markdown",
   "id": "40f5b507-4190-463d-9ff0-6ef558251cba",
   "metadata": {},
   "source": [
    "### 7. Write a Python program to reverse a string.\n"
   ]
  },
  {
   "cell_type": "code",
   "execution_count": 4,
   "id": "c0484f16-f47f-4101-af1e-69cd6e8fb0b9",
   "metadata": {},
   "outputs": [
    {
     "name": "stdin",
     "output_type": "stream",
     "text": [
      " student\n"
     ]
    },
    {
     "name": "stdout",
     "output_type": "stream",
     "text": [
      "tneduts\n"
     ]
    }
   ],
   "source": [
    "s = input()\n",
    "print(s[::-1])"
   ]
  },
  {
   "cell_type": "markdown",
   "id": "635dbbc0-3207-4282-b60f-cd811f68971d",
   "metadata": {},
   "source": [
    "### 8. Write a Python program to count the frequency of each element in a list.\n"
   ]
  },
  {
   "cell_type": "code",
   "execution_count": 5,
   "id": "0e5fab0a-9c6c-4e23-b152-43374dd7c928",
   "metadata": {},
   "outputs": [
    {
     "name": "stdin",
     "output_type": "stream",
     "text": [
      " 4 6 7 5 4 7 \n"
     ]
    },
    {
     "name": "stdout",
     "output_type": "stream",
     "text": [
      "{4: 2, 6: 1, 7: 2, 5: 1}\n"
     ]
    }
   ],
   "source": [
    "l = list(map(int, input().split()))\n",
    "d = {}\n",
    "for i in l:\n",
    "    d[i] = l.count(i)\n",
    "print(d)"
   ]
  },
  {
   "cell_type": "markdown",
   "id": "124e4051-91f6-48b2-a6fc-c06310945dda",
   "metadata": {},
   "source": [
    "### 9. Write a Python program to check if a number is prime.\n"
   ]
  },
  {
   "cell_type": "code",
   "execution_count": 8,
   "id": "30f9e4f4-9163-4fec-a023-44ab035e6309",
   "metadata": {},
   "outputs": [
    {
     "name": "stdin",
     "output_type": "stream",
     "text": [
      " 24\n"
     ]
    },
    {
     "data": {
      "text/plain": [
       "'not prime'"
      ]
     },
     "execution_count": 8,
     "metadata": {},
     "output_type": "execute_result"
    }
   ],
   "source": [
    "def prime_number(n):\n",
    "    for i in range(2, n//2):\n",
    "        if n%i == 0:\n",
    "            return \"not prime\"\n",
    "        return \"yes prime\"\n",
    "n = int(input())\n",
    "prime_number(n)\n",
    "        "
   ]
  },
  {
   "cell_type": "markdown",
   "id": "4aa3c925-f0e6-4039-9d2c-07e74dfd4a73",
   "metadata": {},
   "source": [
    "### 10. Write a Python program to find the common elements between two lists."
   ]
  },
  {
   "cell_type": "code",
   "execution_count": 10,
   "id": "380a94d7-0e70-4ae2-a9e7-1a92feb4c15d",
   "metadata": {},
   "outputs": [
    {
     "name": "stdin",
     "output_type": "stream",
     "text": [
      " 2 5 7 8 9 \n",
      " 8 9 2 6 1 0\n"
     ]
    },
    {
     "name": "stdout",
     "output_type": "stream",
     "text": [
      "[2, 8, 9]\n"
     ]
    }
   ],
   "source": [
    "l1 = list(map(int, input().split()))\n",
    "l2 = list(map(int, input().split()))\n",
    "l = []\n",
    "for i in l1:\n",
    "    if i in l2:\n",
    "        l.append(i)\n",
    "print(l)"
   ]
  },
  {
   "cell_type": "markdown",
   "id": "d118733b-8968-4b56-ad47-7211c026534c",
   "metadata": {},
   "source": [
    "### 11. Write a Python program to sort a list of elements using the bubble sort"
   ]
  },
  {
   "cell_type": "code",
   "execution_count": 11,
   "id": "d353887a-7522-4be6-a199-59f04f0be8dd",
   "metadata": {},
   "outputs": [
    {
     "name": "stdin",
     "output_type": "stream",
     "text": [
      " 6 9 1 0 4 5\n"
     ]
    },
    {
     "name": "stdout",
     "output_type": "stream",
     "text": [
      "[0, 1, 4, 5, 6, 9]\n"
     ]
    }
   ],
   "source": [
    "l = list(map(int, input().split()))\n",
    "for i in range(len(l)):\n",
    "    for j in range(i,len(l)):\n",
    "        if l[i]  > l[j]:\n",
    "            l[i],l[j] = l[j], l[i]\n",
    "print(l)"
   ]
  },
  {
   "cell_type": "markdown",
   "id": "7f12e73a-692d-4fa0-b217-c73b2ff2be1e",
   "metadata": {},
   "source": [
    "### 12. Write a Python program to remove duplicates from a list.\n"
   ]
  },
  {
   "cell_type": "code",
   "execution_count": 12,
   "id": "a7a4ddaa-052a-4c08-9093-232fba39dbc7",
   "metadata": {},
   "outputs": [
    {
     "name": "stdin",
     "output_type": "stream",
     "text": [
      " 2 5 5 7 8 2 1\n"
     ]
    },
    {
     "name": "stdout",
     "output_type": "stream",
     "text": [
      "[2, 5, 7, 8, 1]\n"
     ]
    }
   ],
   "source": [
    "l = list(map(int, input().split()))\n",
    "arr = []\n",
    "for i in l:\n",
    "    if i not in arr:\n",
    "        arr.append(i)\n",
    "print(arr)"
   ]
  },
  {
   "cell_type": "markdown",
   "id": "53d2e956-0ae3-4c66-9689-75538514d069",
   "metadata": {},
   "source": [
    "### 13. Find missing number in list"
   ]
  },
  {
   "cell_type": "code",
   "execution_count": 14,
   "id": "761f181c-5914-4b7f-b287-49f43791fabb",
   "metadata": {},
   "outputs": [
    {
     "name": "stdin",
     "output_type": "stream",
     "text": [
      " 1 3 4 6 8\n"
     ]
    },
    {
     "name": "stdout",
     "output_type": "stream",
     "text": [
      "0\n",
      "2\n",
      "5\n",
      "7\n"
     ]
    }
   ],
   "source": [
    "l = list(map(int, input().split()))\n",
    "for i in range(l[len(l)-1]):\n",
    "    if i not in l:\n",
    "        print(i)\n"
   ]
  },
  {
   "cell_type": "markdown",
   "id": "85ff1af0-3756-40ef-9b84-331415019fc9",
   "metadata": {},
   "source": [
    "### 14. Counting Vowels in a Given Word\n"
   ]
  },
  {
   "cell_type": "code",
   "execution_count": 16,
   "id": "9f881b11-6231-4711-91d1-05231066077c",
   "metadata": {},
   "outputs": [
    {
     "name": "stdin",
     "output_type": "stream",
     "text": [
      " alekhya\n"
     ]
    },
    {
     "name": "stdout",
     "output_type": "stream",
     "text": [
      "{'a': 2, 'e': 1, 'i': 0, '0': 0, 'u': 0}\n"
     ]
    }
   ],
   "source": [
    "v = {'a':0,'e':0,'i':0,'0':0,'u':0}\n",
    "s = input()\n",
    "for i in s:\n",
    "    if i in v:\n",
    "        v[i] += 1\n",
    "print(v)"
   ]
  },
  {
   "cell_type": "markdown",
   "id": "b06f564e-9836-4c37-a3bc-812fe38d5476",
   "metadata": {},
   "source": [
    "### 15. Converting an Integer into Decimals"
   ]
  },
  {
   "cell_type": "code",
   "execution_count": 18,
   "id": "aa486384-9632-40ba-bdb5-a65939d5c17e",
   "metadata": {},
   "outputs": [
    {
     "name": "stdout",
     "output_type": "stream",
     "text": [
      "<class 'decimal.Decimal'>\n"
     ]
    }
   ],
   "source": [
    "import decimal\n",
    "n = 198\n",
    "k = decimal.Decimal(n)\n",
    "print(type(k))"
   ]
  },
  {
   "cell_type": "markdown",
   "id": "83cf1670-60a5-412b-b0b9-d3dcad46d35b",
   "metadata": {},
   "source": [
    "### 16. Writing Fibonacci Series"
   ]
  },
  {
   "cell_type": "code",
   "execution_count": 19,
   "id": "8b7e0e9b-29ac-4b9e-b269-a32f73af2ae4",
   "metadata": {},
   "outputs": [
    {
     "name": "stdin",
     "output_type": "stream",
     "text": [
      " 13\n"
     ]
    },
    {
     "name": "stdout",
     "output_type": "stream",
     "text": [
      "0 1 1 2 3 5 8 13 21 34 55 89 144 "
     ]
    }
   ],
   "source": [
    "def fibonacci(n):\n",
    "    a, b = 0, 1\n",
    "    for i in range(n):\n",
    "        print(a, end=\" \")\n",
    "        a, b = b, a + b\n",
    "n = int(input())\n",
    "fibonacci(n)"
   ]
  },
  {
   "cell_type": "markdown",
   "id": "01adeaf9-9188-4c19-890b-0b7bdafd1b73",
   "metadata": {},
   "source": [
    "### 17. Finding the Middle Element in a List\n"
   ]
  },
  {
   "cell_type": "code",
   "execution_count": 21,
   "id": "c498b11b-df56-4bfa-b2ea-e865526d746c",
   "metadata": {},
   "outputs": [
    {
     "name": "stdin",
     "output_type": "stream",
     "text": [
      " 2 5 7 3 8\n"
     ]
    },
    {
     "name": "stdout",
     "output_type": "stream",
     "text": [
      "7\n"
     ]
    }
   ],
   "source": [
    "l = list(map(int, input().split()))\n",
    "print(int(l[len(l)//2]))"
   ]
  },
  {
   "cell_type": "markdown",
   "id": "2cc9e361-b887-4854-aa0e-8d078ebf7148",
   "metadata": {},
   "source": [
    "### 18. Python program in to check string is anagrams or not"
   ]
  },
  {
   "cell_type": "code",
   "execution_count": 22,
   "id": "04893de2-5663-4ca0-a859-8b1667de6365",
   "metadata": {},
   "outputs": [
    {
     "name": "stdin",
     "output_type": "stream",
     "text": [
      " liaten\n",
      " ailent\n"
     ]
    },
    {
     "name": "stdout",
     "output_type": "stream",
     "text": [
      "Yes anagram\n"
     ]
    }
   ],
   "source": [
    "s1 = input()\n",
    "s2 = input()\n",
    "print(\"Yes anagram\" if sorted(s1) == sorted(s2) else \"not anagram\")"
   ]
  },
  {
   "cell_type": "markdown",
   "id": "54de9893-81bc-4506-9cbc-f470b335935f",
   "metadata": {},
   "source": [
    "### 19. Python code to check given character is digit or not"
   ]
  },
  {
   "cell_type": "code",
   "execution_count": 25,
   "id": "70aa54be-c748-4111-a1ed-ccb8bad55209",
   "metadata": {},
   "outputs": [
    {
     "name": "stdin",
     "output_type": "stream",
     "text": [
      " r\n"
     ]
    },
    {
     "name": "stdout",
     "output_type": "stream",
     "text": [
      "not digit\n"
     ]
    }
   ],
   "source": [
    "s = input()\n",
    "print(\"yes digit \" if ord(s) in range(48,57) else \"not digit\")"
   ]
  },
  {
   "cell_type": "markdown",
   "id": "ebffa6d2-3005-44aa-bd17-766ddec918d7",
   "metadata": {},
   "source": [
    "### 20. Program to replace the string space with any given character\n"
   ]
  },
  {
   "cell_type": "code",
   "execution_count": 26,
   "id": "357b229d-f2e4-4aec-9661-7b36d4319282",
   "metadata": {},
   "outputs": [
    {
     "name": "stdin",
     "output_type": "stream",
     "text": [
      " gh u yk\n",
      "enter replace character n\n"
     ]
    },
    {
     "name": "stdout",
     "output_type": "stream",
     "text": [
      " ghnunyk\n"
     ]
    }
   ],
   "source": [
    "s = input()\n",
    "k = input(\"enter replace character\")\n",
    "res = \" \"\n",
    "for i in s:\n",
    "    if i == \" \":\n",
    "        res += k\n",
    "    else:\n",
    "        res += i\n",
    "print(res)"
   ]
  },
  {
   "cell_type": "code",
   "execution_count": null,
   "id": "3790064d-ccb6-4aa4-b7c8-94d708c3e29f",
   "metadata": {},
   "outputs": [],
   "source": []
  }
 ],
 "metadata": {
  "kernelspec": {
   "display_name": "Python 3 (ipykernel)",
   "language": "python",
   "name": "python3"
  },
  "language_info": {
   "codemirror_mode": {
    "name": "ipython",
    "version": 3
   },
   "file_extension": ".py",
   "mimetype": "text/x-python",
   "name": "python",
   "nbconvert_exporter": "python",
   "pygments_lexer": "ipython3",
   "version": "3.10.1"
  }
 },
 "nbformat": 4,
 "nbformat_minor": 5
}
